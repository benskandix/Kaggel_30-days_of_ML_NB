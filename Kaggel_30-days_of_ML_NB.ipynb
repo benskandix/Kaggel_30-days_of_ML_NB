{
 "cells": [
  {
   "cell_type": "markdown",
   "metadata": {},
   "source": [
    "### Importing libraries"
   ]
  },
  {
   "cell_type": "code",
   "execution_count": 1,
   "metadata": {},
   "outputs": [],
   "source": [
    "import numpy as np\n",
    "import pandas as pd\n",
    "import matplotlib.pyplot as plt\n",
    "%matplotlib inline\n",
    "from sklearn.tree import DecisionTreeRegressor\n",
    "from sklearn.model_selection import train_test_split\n",
    "from sklearn.metrics import mean_absolute_error\n",
    "from sklearn.ensemble import RandomForestRegressor\n",
    "from sklearn.impute import SimpleImputer\n",
    "from sklearn.preprocessing import OrdinalEncoder\n",
    "from sklearn.preprocessing import OneHotEncoder\n",
    "from sklearn.preprocessing import LabelEncoder\n",
    "from sklearn.compose import ColumnTransformer\n",
    "from sklearn.pipeline import Pipeline\n",
    "from sklearn.model_selection import cross_val_score\n",
    "from xgboost import XGBRegressor\n",
    "# import lightgbm as lgb"
   ]
  },
  {
   "cell_type": "markdown",
   "metadata": {},
   "source": [
    "### Datasets using Pandas"
   ]
  },
  {
   "cell_type": "code",
   "execution_count": null,
   "metadata": {},
   "outputs": [],
   "source": [
    "# url = \"https://md-datasets-cache-zipfiles-prod.s3.eu-west-1.amazonaws.com/gwbz3fsgp8-2.zip\"\n",
    "# wget.download(url, 'D:\\...\\Datasets')\n",
    "\n",
    "# wget <https://www.kaggle.com/anthonypino/melbourne-housing-market/download/archive.zip>"
   ]
  },
  {
   "cell_type": "code",
   "execution_count": 2,
   "metadata": {},
   "outputs": [],
   "source": [
    "# save filepath to variable for easier access\n",
    "melbourne_file_path = 'D:\\...\\Datasets\\melb_data.csv'\n",
    "# read the data and store data in DataFrame titled melbourne_data\n",
    "melbourne_data = pd.read_csv(melbourne_file_path) \n",
    "# print a summary and the head of the data in Melbourne data \n",
    "# print(melbourne_data.describe())\n",
    "# print(melbourne_data.head())\n",
    "# print(melbourne_data.columns)\n",
    "# print(melbourne_data.items)\n"
   ]
  },
  {
   "cell_type": "code",
   "execution_count": 3,
   "metadata": {},
   "outputs": [],
   "source": [
    "# Filter rows with missing values\n",
    "melbourne_data = melbourne_data.dropna(axis=0)\n",
    "\n",
    "# Labels\n",
    "y = melbourne_data.Price\n",
    "# Costumized features as inputs\n",
    "melbourne_features1 = ['Rooms', 'Bathroom', 'Landsize', 'Lattitude', 'Longtitude']\n",
    "# All the features as inputs\n",
    "melbourne_features2 = melbourne_data.drop(columns=['Price'])\n",
    "X1 = melbourne_data[melbourne_features1]\n",
    "# X1_index_colom = melbourne_features1\n",
    "X2 = melbourne_features2\n",
    "\n",
    "# Split into validation and training data\n",
    "train_X, val_X, train_y, val_y = train_test_split(X1, y)\n",
    "train_X2, val_X2, train_y, val_y = train_test_split(X2, y)\n",
    "# len(val_y)/len(y), len(val_X)/len(X1) "
   ]
  },
  {
   "cell_type": "markdown",
   "metadata": {},
   "source": [
    "### Decision Tree Model"
   ]
  },
  {
   "cell_type": "code",
   "execution_count": 4,
   "metadata": {},
   "outputs": [],
   "source": [
    "# # 1st method:\n",
    "# # Specify Model\n",
    "# model = DecisionTreeRegressor()\n",
    "# # Fit Model\n",
    "# model.fit(train_X, train_y)\n",
    "# # Make validation predictions and calculate mean absolute error\n",
    "# preds_val = model.predict(val_X)\n",
    "# mae = mean_absolute_error(val_predictions, val_y)\n",
    "# print(\"Validation MAE: {:,.0f}\".format(val_mae))\n",
    "\n",
    "# 2nd method:\n",
    "def get_mae(max_leaf_nodes, train_X, val_X, train_y, val_y):\n",
    "    model = DecisionTreeRegressor(max_leaf_nodes=max_leaf_nodes)\n",
    "    model.fit(train_X, train_y)\n",
    "    preds_val = model.predict(val_X)\n",
    "    mae = mean_absolute_error(val_y, preds_val)\n",
    "    return mae"
   ]
  },
  {
   "cell_type": "code",
   "execution_count": 5,
   "metadata": {},
   "outputs": [],
   "source": [
    "# Compare different leaf sizes\n",
    "candidate_max_leaf_nodes = [5, 25, 50, 100, 250, 500]\n",
    "# Write loop to find the ideal tree size from candidate_max_leaf_nodes\n",
    "best = []\n",
    "for candidate in candidate_max_leaf_nodes:\n",
    "    meanae = get_mae(candidate, train_X, val_X, train_y, val_y)\n",
    "    best.append(meanae)  \n",
    "# Store the best value of max_leaf_nodes (it will be either 5, 25, 50, 100, 250 or 500)\n",
    "best_tree_size = (candidate_max_leaf_nodes[best.index(min(best))])\n",
    "# best_tree_size, min(best)\n",
    "\n",
    "# fitting the model with the best_leaf_size:\n",
    "model = DecisionTreeRegressor(max_leaf_nodes=best_tree_size)\n",
    "model.fit(train_X, train_y)\n",
    "preds_val = model.predict(val_X)"
   ]
  },
  {
   "cell_type": "markdown",
   "metadata": {},
   "source": [
    "### Random Forest Model"
   ]
  },
  {
   "cell_type": "code",
   "execution_count": 6,
   "metadata": {},
   "outputs": [],
   "source": [
    "# Read the data from the home-data-for-ml-course \n",
    "X_full = pd.read_csv(r'D:\\...\\Datasets\\home-data-for-ml-course\\train.csv', index_col='Id')\n",
    "X_test_full = pd.read_csv(r'D:\\...\\Datasets\\home-data-for-ml-course\\test.csv', index_col='Id')\n",
    "# Using only numerical predictors\n",
    "X_num = X_full.select_dtypes(exclude=['object'])\n",
    "X_test_num = X_test_full.select_dtypes(exclude=['object'])\n",
    "# Obtain target and predictors\n",
    "y = X_full.SalePrice\n",
    "features = ['LotArea', 'YearBuilt', '1stFlrSF', '2ndFlrSF', 'FullBath', 'BedroomAbvGr', 'TotRmsAbvGrd']\n",
    "X = X_full[features].copy()\n",
    "X_test = X_test_full[features].copy()\n",
    "\n",
    "# Break off training-validation set from numerical training data\n",
    "X_train, X_valid, y_train, y_valid = train_test_split(X_num, y, train_size=0.8)\n",
    "# Break off training-validation set from featured training data\n",
    "X_train_features, X_valid_features, y_train, y_valid = train_test_split(X, y, train_size=0.8)\n",
    "# Break off training-validation set from full training data\n",
    "X_train_full, X_valid_full, y_train, y_valid = train_test_split(X_full, y, train_size=0.8)"
   ]
  },
  {
   "cell_type": "markdown",
   "metadata": {},
   "source": [
    "#### Missing values"
   ]
  },
  {
   "cell_type": "code",
   "execution_count": 7,
   "metadata": {},
   "outputs": [
    {
     "name": "stdout",
     "output_type": "stream",
     "text": [
      "(1168, 37)\n",
      "LotFrontage    210\n",
      "MasVnrArea       8\n",
      "GarageYrBlt     64\n",
      "dtype: int64\n"
     ]
    }
   ],
   "source": [
    "# Shape of training data (num_rows, num_columns)\n",
    "print(X_train.shape)\n",
    "# Number of missing values in each column of training data\n",
    "missing_val_count_by_column = (X_train.isnull().sum())\n",
    "print(missing_val_count_by_column[missing_val_count_by_column > 0])\n",
    "\n",
    "# Get names of columns with missing values\n",
    "cols_with_missing = [col for col in X_train.columns if X_train[col].isnull().any()]\n",
    "\n",
    "# 1st method :\n",
    "# Drop columns in training and validation data\n",
    "reduced_X_train = X_train.drop(cols_with_missing, axis=1) #,inplace=True)\n",
    "reduced_X_valid = X_valid.drop(cols_with_missing, axis=1) #,inplace=True)\n",
    "\n",
    "# 2nd method\n",
    "# Imputation\n",
    "my_imputer = SimpleImputer()\n",
    "imputed_X_train = pd.DataFrame(my_imputer.fit_transform(X_train))  # Fit to data, then transform it.\n",
    "imputed_X_valid = pd.DataFrame(my_imputer.transform(X_valid))  # Only impute all missing values in X, without fitting.\n",
    "# Imputation removed column names; so put them back\n",
    "imputed_X_train.columns = X_train.columns\n",
    "imputed_X_valid.columns = X_valid.columns\n",
    "\n",
    "# 3rd method\n",
    "# Make copy to avoid changing original data (when imputing)\n",
    "X_train_plus = X_train.copy()\n",
    "X_valid_plus = X_valid.copy()\n",
    "# Make new columns indicating what will be imputed\n",
    "for col in cols_with_missing:\n",
    "    X_train_plus[col + '_was_missing'] = X_train_plus[col].isnull()\n",
    "    X_valid_plus[col + '_was_missing'] = X_valid_plus[col].isnull()\n",
    "# Imputation \n",
    "my_imputer = SimpleImputer()\n",
    "imputed_X_train_plus = pd.DataFrame(my_imputer.fit_transform(X_train_plus))\n",
    "imputed_X_valid_plus = pd.DataFrame(my_imputer.transform(X_valid_plus))\n",
    "# Imputation removed column names; so put them back\n",
    "imputed_X_train_plus.columns = X_train_plus.columns\n",
    "imputed_X_valid_plus.columns = X_valid_plus.columns"
   ]
  },
  {
   "cell_type": "code",
   "execution_count": 8,
   "metadata": {},
   "outputs": [],
   "source": [
    "# function for comparing different approaches\n",
    "def score_dataset(X_train, X_valid, y_train, y_valid):\n",
    "    model = RandomForestRegressor(n_estimators=100)\n",
    "    model.fit(X_train, y_train)\n",
    "    preds = model.predict(X_valid)\n",
    "    return mean_absolute_error(y_valid, preds)"
   ]
  },
  {
   "cell_type": "code",
   "execution_count": 9,
   "metadata": {},
   "outputs": [
    {
     "name": "stdout",
     "output_type": "stream",
     "text": [
      "MAE from Approach 1: reduced data\n",
      "62174.93595890411\n",
      "MAE from Approach 2: imputed data\n",
      "62255.95434931506\n"
     ]
    }
   ],
   "source": [
    "# 1st: Define the model with reduced data\n",
    "print(\"MAE from Approach 1: reduced data\")\n",
    "print(score_dataset(reduced_X_train, reduced_X_valid, y_train, y_valid))\n",
    "# 2nd: Define the model with imputed data\n",
    "print(\"MAE from Approach 2: imputed data\")\n",
    "print(score_dataset(imputed_X_train, imputed_X_valid, y_train, y_valid))"
   ]
  },
  {
   "cell_type": "code",
   "execution_count": 10,
   "metadata": {},
   "outputs": [
    {
     "name": "stdout",
     "output_type": "stream",
     "text": [
      "Model 1 MAE: 65290\n",
      "Model 2 MAE: 65355\n",
      "Model 3 MAE: 65130\n",
      "Model 4 MAE: 62579\n",
      "Model 5 MAE: 61623\n"
     ]
    }
   ],
   "source": [
    "# Define different Random Forest models\n",
    "model_1 = RandomForestRegressor(n_estimators=50)\n",
    "model_2 = RandomForestRegressor(n_estimators=100)\n",
    "model_3 = RandomForestRegressor(n_estimators=100, criterion='mae')\n",
    "model_4 = RandomForestRegressor(n_estimators=200, min_samples_split=20)\n",
    "model_5 = RandomForestRegressor(n_estimators=100, max_depth=7)\n",
    "\n",
    "models = [model_1, model_2, model_3, model_4, model_5]\n",
    "\n",
    "# Function for comparing different models\n",
    "def score_model(model, X_t=X_train_features, X_v=X_valid_features, y_t=y_train, y_v=y_valid):\n",
    "    model.fit(X_t, y_t)\n",
    "    preds = model.predict(X_v)\n",
    "    return mean_absolute_error(y_v, preds)\n",
    "\n",
    "for i in range(0, len(models)):\n",
    "    mae = score_model(models[i])\n",
    "    print(\"Model %d MAE: %d\" % (i+1, mae))\n",
    "    \n",
    "mae = []\n",
    "for i in range(0, len(models)):\n",
    "    mae.append(score_model(models[i]))\n",
    "for i in range(0, len(models)):\n",
    "    if mae[i] == min(mae):\n",
    "        best_model = models[i]\n",
    "\n",
    "my_model = best_model\n",
    "# fitting the best model\n",
    "my_model.fit(X_train_features,y_train)\n",
    "my_preds_test = my_model.predict(X_test)"
   ]
  },
  {
   "cell_type": "markdown",
   "metadata": {},
   "source": [
    "#### Data colomns with cathegorical and numerical values"
   ]
  },
  {
   "cell_type": "code",
   "execution_count": 17,
   "metadata": {},
   "outputs": [
    {
     "name": "stdout",
     "output_type": "stream",
     "text": [
      "['Type', 'Method', 'Regionname']\n"
     ]
    },
    {
     "name": "stderr",
     "output_type": "stream",
     "text": [
      "C:\\Users\\user\\anaconda3\\lib\\site-packages\\pandas\\core\\frame.py:4315: SettingWithCopyWarning: \n",
      "A value is trying to be set on a copy of a slice from a DataFrame\n",
      "\n",
      "See the caveats in the documentation: https://pandas.pydata.org/pandas-docs/stable/user_guide/indexing.html#returning-a-view-versus-a-copy\n",
      "  errors=errors,\n"
     ]
    },
    {
     "data": {
      "text/plain": [
       "[('Type', 3), ('Method', 5), ('Regionname', 8)]"
      ]
     },
     "execution_count": 17,
     "metadata": {},
     "output_type": "execute_result"
    }
   ],
   "source": [
    "# Separate target from predictors\n",
    "y = melbourne_data.Price\n",
    "X = melbourne_data.drop(['Price'], axis=1)\n",
    "# Divide data into training and validation subsets\n",
    "X_train_full, X_valid_full, y_train, y_valid = train_test_split(X, y, train_size=0.8, test_size=0.2,\n",
    "                                                                random_state=0)\n",
    "# Drop columns with missing values (simplest approach)\n",
    "cols_with_missing = [col for col in X_train_full.columns if X_train_full[col].isnull().any()] \n",
    "X_train_full.drop(cols_with_missing, axis=1, inplace=True)\n",
    "X_valid_full.drop(cols_with_missing, axis=1, inplace=True)\n",
    "\n",
    "# \"Cardinality\" means the number of unique values in a column\n",
    "# Selecting categorical columns with relatively low cardinality (= 1 to 15) (convenient but arbitrary) \n",
    "low_cardinality_cols = [cname for cname in X_train_full.columns if X_train_full[cname].nunique() < 10 and \n",
    "                        X_train_full[cname].dtype == \"object\"]\n",
    "# Select numerical columns\n",
    "numerical_cols = [cname for cname in X_train_full.columns if X_train_full[cname].dtype in ['int64', 'float64']]\n",
    "# Keep selected columns only\n",
    "my_cols = low_cardinality_cols + numerical_cols\n",
    "X_train = X_train_full[my_cols].copy()\n",
    "X_valid = X_valid_full[my_cols].copy()\n",
    "\n",
    "# Get list of categorical variables\n",
    "print(low_cardinality_cols)\n",
    "# s = (X_train.dtypes == 'object')\n",
    "# object_cols = list(s[s].index)\n",
    "# print(\"Categorical variables:\")\n",
    "# print(object_cols)\n",
    "\n",
    "# Get number of unique entries in each column with categorical data\n",
    "object_nunique = list(map(lambda col: X_train[col].nunique(), low_cardinality_cols))\n",
    "d = dict(zip(low_cardinality_cols, object_nunique))\n",
    "# Print number of unique entries by column, in ascending order\n",
    "sorted(d.items(), key=lambda x: x[1]) "
   ]
  },
  {
   "cell_type": "code",
   "execution_count": 18,
   "metadata": {},
   "outputs": [],
   "source": [
    "# 1st method: Drop Categorical Variables\n",
    "drop_X_train = X_train.select_dtypes(exclude=['object'])\n",
    "drop_X_valid = X_valid.select_dtypes(exclude=['object'])\n",
    "\n",
    "# 2nd method: Ordinal Encoding\n",
    "# Make copy to avoid changing original data \n",
    "label_X_train = X_train.copy()\n",
    "label_X_valid = X_valid.copy()\n",
    "# Apply ordinal encoder to each column with categorical data\n",
    "ordinal_encoder = OrdinalEncoder()\n",
    "label_X_train[low_cardinality_cols] = ordinal_encoder.fit_transform(X_train[low_cardinality_cols])\n",
    "label_X_valid[low_cardinality_cols] = ordinal_encoder.transform(X_valid[low_cardinality_cols])\n",
    "\n",
    "# 3rd method: OneHotEncoder\n",
    "# Apply one-hot encoder to each column with categorical data\n",
    "OH_encoder = OneHotEncoder(handle_unknown='ignore', sparse=False)\n",
    "OH_cols_train = pd.DataFrame(OH_encoder.fit_transform(X_train[low_cardinality_cols]))\n",
    "OH_cols_valid = pd.DataFrame(OH_encoder.transform(X_valid[low_cardinality_cols]))\n",
    "# One-hot encoding removed index; put it back\n",
    "OH_cols_train.index = X_train.index\n",
    "OH_cols_valid.index = X_valid.index\n",
    "# Remove categorical columns (will replace with one-hot encoding)\n",
    "num_X_train = X_train.drop(low_cardinality_cols, axis=1)\n",
    "num_X_valid = X_valid.drop(low_cardinality_cols, axis=1)\n",
    "# Add one-hot encoded columns to numerical features\n",
    "OH_X_train = pd.concat([num_X_train, OH_cols_train], axis=1)\n",
    "OH_X_valid = pd.concat([num_X_valid, OH_cols_valid], axis=1)\n"
   ]
  },
  {
   "cell_type": "code",
   "execution_count": 19,
   "metadata": {},
   "outputs": [
    {
     "name": "stdout",
     "output_type": "stream",
     "text": [
      "MAE from Approach 1 (Drop categorical variables):\n",
      "182482.47458256525\n",
      "MAE from Approach 2 (Ordinal encoder for categorical variables):\n",
      "180631.3939907834\n",
      "MAE from Approach 3 (One Hot Encoder for categorical variables):\n",
      "177878.71885483872\n"
     ]
    }
   ],
   "source": [
    "# 1st: Define the model\n",
    "print(\"MAE from Approach 1 (Drop categorical variables):\")\n",
    "print(score_dataset(drop_X_train, drop_X_valid, y_train, y_valid))\n",
    "# 2nd: Define the model with Ordinal encoded data\n",
    "print(\"MAE from Approach 2 (Ordinal encoder for categorical variables):\")\n",
    "print(score_dataset(label_X_train, label_X_valid, y_train, y_valid))\n",
    "# 3rd: Define the model with OH encoded data\n",
    "print(\"MAE from Approach 3 (One Hot Encoder for categorical variables):\")\n",
    "print(score_dataset(OH_X_train, OH_X_valid, y_train, y_valid))"
   ]
  },
  {
   "cell_type": "code",
   "execution_count": 20,
   "metadata": {},
   "outputs": [],
   "source": [
    "# # Save predictions in format used for competition scoring\n",
    "# output = pd.DataFrame({'Id': X_test.index, 'SalePrice': preds_test})\n",
    "# output.to_csv('submission.csv', index=False) "
   ]
  },
  {
   "cell_type": "markdown",
   "metadata": {},
   "source": [
    "### Pipelines"
   ]
  },
  {
   "cell_type": "code",
   "execution_count": 21,
   "metadata": {},
   "outputs": [
    {
     "name": "stdout",
     "output_type": "stream",
     "text": [
      "MAE: 178112.1407822581\n"
     ]
    }
   ],
   "source": [
    "# Preprocessing for numerical data\n",
    "numerical_transformer = SimpleImputer(strategy='constant')\n",
    "# Preprocessing for categorical data\n",
    "categorical_transformer = Pipeline(steps=[\n",
    "    ('imputer', SimpleImputer(strategy='most_frequent')),\n",
    "    ('onehot', OneHotEncoder(handle_unknown='ignore'))\n",
    "])\n",
    "# Bundle preprocessing for numerical and categorical data\n",
    "preprocessor = ColumnTransformer(\n",
    "    transformers=[\n",
    "        ('num', numerical_transformer, numerical_cols),\n",
    "        ('cat', categorical_transformer, low_cardinality_cols)\n",
    "    ])\n",
    "\n",
    "model = RandomForestRegressor(n_estimators=100, random_state=0)\n",
    "# Bundle preprocessing and modeling code in a pipeline\n",
    "my_pipeline = Pipeline(steps=[('preprocessor', preprocessor),\n",
    "                              ('model', model)\n",
    "                             ])\n",
    "# Preprocessing of training data, fit model \n",
    "my_pipeline.fit(X_train, y_train)\n",
    "# Preprocessing of validation data, get predictions\n",
    "preds = my_pipeline.predict(X_valid)\n",
    "\n",
    "# Evaluate the model\n",
    "score = mean_absolute_error(y_valid, preds)\n",
    "print('MAE:', score)\n",
    "\n",
    "# # Preprocessing of test data, fit model\n",
    "# preds_test = my_pipeline.predict(X_test) "
   ]
  },
  {
   "cell_type": "markdown",
   "metadata": {},
   "source": [
    "### Cross Validation"
   ]
  },
  {
   "cell_type": "code",
   "execution_count": 22,
   "metadata": {},
   "outputs": [
    {
     "name": "stdout",
     "output_type": "stream",
     "text": [
      "MAE scores:\n",
      " [222597.73887903 202468.83454168 182654.21047619 161393.31001883\n",
      " 158724.26229755]\n",
      "Average MAE score (across experiments):\n",
      "185567.67124265764\n"
     ]
    }
   ],
   "source": [
    "# Multiply by -1 since sklearn calculates *negative* MAE\n",
    "scores = -1 * cross_val_score(my_pipeline, X, y,\n",
    "                              cv=5,\n",
    "                              scoring='neg_mean_absolute_error')\n",
    "\n",
    "print(\"MAE scores:\\n\", scores)\n",
    "print(\"Average MAE score (across experiments):\")\n",
    "print(scores.mean())"
   ]
  },
  {
   "cell_type": "code",
   "execution_count": 27,
   "metadata": {},
   "outputs": [
    {
     "data": {
      "image/png": "[encoded data removed]",
      "text/plain": [
       "<Figure size 432x288 with 1 Axes>"
      ]
     },
     "metadata": {
      "needs_background": "light"
     },
     "output_type": "display_data"
    }
   ],
   "source": [
    "y = X_full.SalePrice\n",
    "features = ['LotArea', 'YearBuilt', '1stFlrSF', '2ndFlrSF', 'FullBath', 'BedroomAbvGr', 'TotRmsAbvGrd']\n",
    "X = X_full[features].copy()\n",
    "\n",
    "def get_score(n_estimators):\n",
    "    my_pipeline = Pipeline(steps=[('preprocessor', SimpleImputer()),\n",
    "                              ('model', RandomForestRegressor(n_estimators=n_estimators,random_state=0))\n",
    "                             ])\n",
    "    scores = -1 * cross_val_score(my_pipeline, X, y,\n",
    "                              cv=10,\n",
    "                              scoring='neg_mean_absolute_error')\n",
    "    m = scores.mean()\n",
    "    return m\n",
    "\n",
    "n_estimators = [50, 100, 150, 200, 250, 300, 350, 400]\n",
    "results = {}\n",
    "for i in range(0,len(n_estimators)):\n",
    "    results[n_estimators[i]] = get_score(n_estimators[i]) \n",
    "\n",
    "plt.plot(list(results.keys()), list(results.values()))\n",
    "plt.show()"
   ]
  },
  {
   "cell_type": "markdown",
   "metadata": {},
   "source": [
    "### XGBoost (eXtreme Gradient Boosting) : a level_wise growth appraoch"
   ]
  },
  {
   "cell_type": "code",
   "execution_count": 28,
   "metadata": {},
   "outputs": [
    {
     "name": "stdout",
     "output_type": "stream",
     "text": [
      "Average MAE score: 22019.079663420376\n"
     ]
    },
    {
     "data": {
      "text/plain": [
       "array([119441.37, 164351.1 , 187794.45, ..., 153774.11, 143085.06,\n",
       "       235366.62], dtype=float32)"
      ]
     },
     "execution_count": 28,
     "metadata": {},
     "output_type": "execute_result"
    }
   ],
   "source": [
    "# Read the data from the home-data-for-ml-course \n",
    "X_full = pd.read_csv(r'D:\\projets\\AI_py_tutorials\\Datasets\\home-data-for-ml-course\\train.csv', index_col='Id')\n",
    "X_test_full = pd.read_csv(r'D:\\projets\\AI_py_tutorials\\Datasets\\home-data-for-ml-course\\test.csv', index_col='Id')\n",
    "# Obtain target and predictors\n",
    "y = X_full.SalePrice\n",
    "features = ['LotArea', 'YearBuilt', '1stFlrSF', '2ndFlrSF', 'FullBath', 'BedroomAbvGr', 'TotRmsAbvGrd']\n",
    "X = X_full[features].copy()\n",
    "X_test = X_test_full[features].copy()\n",
    "# Break off training-validation set from featured training data\n",
    "X_train_features, X_valid_features, y_train, y_valid = train_test_split(X, y, train_size=0.8)\n",
    "\n",
    "\n",
    "my_model = XGBRegressor(n_estimators=1000, learning_rate=0.05) # , n_jobs=4) number of cores!\n",
    "my_model.fit(X_train_features, y_train, \n",
    "             early_stopping_rounds=5, \n",
    "             eval_set=[(X_valid_features, y_valid)], \n",
    "             verbose=False)\n",
    "\n",
    "# Get predictions\n",
    "predictions = my_model.predict(X_valid_features)\n",
    "# Calculate MAE\n",
    "mae = mean_absolute_error(y_valid, predictions)\n",
    "print(\"Average MAE score: {}\".format(mae))\n",
    "test_predictions = my_model.predict(X_test)\n",
    "test_predictions "
   ]
  },
  {
   "cell_type": "markdown",
   "metadata": {},
   "source": [
    "### leakage"
   ]
  },
  {
   "cell_type": "markdown",
   "metadata": {},
   "source": [
    "#### Target leakage\n",
    "Target leakage occurs when your predictors include data that will not be available at the time you make predictions.\n",
    "#### Train-Test Contamination\n",
    "A different type of leak occurs when you aren't careful to distinguish training data from validation data."
   ]
  },
  {
   "cell_type": "markdown",
   "metadata": {},
   "source": [
    "### LGBM (Light Gradient Boost Machine) : a leaf_wise growth appraoch"
   ]
  },
  {
   "cell_type": "code",
   "execution_count": 29,
   "metadata": {},
   "outputs": [],
   "source": [
    "X = pd.read_csv(r'D:\\projets\\AI_py_tutorials\\Datasets\\tabular-playground-series-feb-2021\\train.csv',encoding='utf-8',index_col=0)\n",
    "test = pd.read_csv(r'D:\\projets\\AI_py_tutorials\\Datasets\\tabular-playground-series-feb-2021\\test.csv',encoding='utf-8',index_col=0)\n",
    "\n",
    "y = X['target']\n",
    "X = X.drop(['target'], axis= 1)\n",
    "\n",
    "label = LabelEncoder()\n",
    "categorical_feature = np.where(X.dtypes != 'float64')[0].tolist()\n",
    "categorical_feature_columns = X.select_dtypes(exclude=['float64']).columns\n",
    "\n",
    "for column in categorical_feature_columns:\n",
    "        label.fit(X[column])\n",
    "        X[column] = label.transform(X[column])\n",
    "        test[column] = label.transform(test[column])"
   ]
  },
  {
   "cell_type": "code",
   "execution_count": 30,
   "metadata": {},
   "outputs": [],
   "source": [
    "lgbm_parameters = {\n",
    "    'metric': 'rmse', \n",
    "    'n_jobs': -1,\n",
    "    'n_estimators': 50000,\n",
    "    'reg_alpha': 10.924491968127692,\n",
    "    'reg_lambda': 17.396730654687218,\n",
    "    'colsample_bytree': 0.21497646795452627,\n",
    "    'subsample': 0.7582562557431147,\n",
    "    'learning_rate': 0.009985133666265425,\n",
    "    'max_depth': 18,\n",
    "    'num_leaves': 63,    # num_leaves=2^(max_depth)\n",
    "    'min_child_samples': 27,\n",
    "    'max_bin': 523,\n",
    "    'cat_l2': 0.025083670064082797\n",
    "}"
   ]
  },
  {
   "cell_type": "code",
   "execution_count": null,
   "metadata": {},
   "outputs": [],
   "source": [
    "# import optuna\n",
    "# def objective(trial):\n",
    "#     X_train,X_test,y_train,y_test = train_test_split(X,y,test_size=0.25)\n",
    "#     dtrain = lgb.Dataset(X_train, label=y_train)\n",
    "\n",
    "#     param = {\n",
    "#         \"objective\": \"binary\",\n",
    "#         \"metric\": \"binary_logloss\",\n",
    "#         \"verbosity\": -1,\n",
    "#         \"boosting_type\": \"gbdt\",\n",
    "#         \"lambda_l1\": trial.suggest_float(\"lambda_l1\", 1e-8, 10.0, log=True),\n",
    "#         \"lambda_l2\": trial.suggest_float(\"lambda_l2\", 1e-8, 10.0, log=True),\n",
    "#         \"num_leaves\": trial.suggest_int(\"num_leaves\", 2, 256),\n",
    "#         \"feature_fraction\": trial.suggest_float(\"feature_fraction\", 0.4, 1.0),\n",
    "#         \"bagging_fraction\": trial.suggest_float(\"bagging_fraction\", 0.4, 1.0),\n",
    "#         \"bagging_freq\": trial.suggest_int(\"bagging_freq\", 1, 7),\n",
    "#         \"min_child_samples\": trial.suggest_int(\"min_child_samples\", 5, 100),\n",
    "#     }\n",
    "\n",
    "#     gbm = lgb.train(param, dtrain)\n",
    "#     preds = gbm.predict(X_test)\n",
    "#     pred_labels = np.rint(preds)\n",
    "#     accuracy = sklearn.metrics.accuracy_score(y_test, pred_labels)\n",
    "#     return accuracy\n",
    "# study = optuna.create_study(direction=\"maximize\")\n",
    "# study.optimize(objective, n_trials=100)"
   ]
  }
 ],
 "metadata": {
  "kernelspec": {
   "display_name": "Python 3",
   "language": "python",
   "name": "python3"
  },
  "language_info": {
   "codemirror_mode": {
    "name": "ipython",
    "version": 3
   },
   "file_extension": ".py",
   "mimetype": "text/x-python",
   "name": "python",
   "nbconvert_exporter": "python",
   "pygments_lexer": "ipython3",
   "version": "3.7.6"
  }
 },
 "nbformat": 4,
 "nbformat_minor": 4
}
